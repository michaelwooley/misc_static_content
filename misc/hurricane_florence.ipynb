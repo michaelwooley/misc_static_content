{
 "cells": [
  {
   "cell_type": "markdown",
   "metadata": {},
   "source": [
    "# Hurricane Florence: Potential Employment Impacts\n",
    "\n",
    "_First Draft: 10 September 2018_\n",
    "\n",
    "_Last Draft: 12 September 2018_\n",
    "\n",
    "Michael Wooley.\n",
    "\n",
    "It is possible for hurricanes to throw off employment counts if they cause workers to miss work. While shutdowns due to this factor are important, they can generate large distortions in the data that need to be distinguished from other transitory and secular factors.\n",
    "\n",
    "Employment in the Establishment Survey (the source of headline employment) is tallied as the number of people on establishment payrolls during _any part_ of the week on which the 12th of the month falls.\n",
    "\n",
    "Currently, Hurricane Florence is on path to make landfall at early Wednesday at the earliest. In North Carolina mandatory evacuations of the Outer Banks area were ordered at [noon Monday](https://weather.com/safety/hurricane/news/2018-09-10-hurricane-florence-preparations-southeast-coast-north-carolina). Voluntary evacuations of UNC-Wilmington were to begin on noon Monday. At around 3pm EDT evacuations of the coastal area of South Carolina were [ordered to begin at noon Tuesday](https://www.postandcourier.com/news/evacuations-ordered-for-sc-coast-as-hurricane-florence-nears-effective/article_ecae59d2-b507-11e8-b430-c30c881683a8.html).\n",
    "\n",
    "Interest in \"Emergency Evacuation\" at [Google Trends](https://trends.google.com/trends/explore?date=now%201-d&geo=US-NC&q=%2Fm%2F058th7) only began to pick up in the mid-afternoon in both South and North Carolina. There do not appear to be any major traffic jams on _outgoing_ highways in the evacuation areas as of 6pm EDT. This suggests that evacuations have yet to begin in earnest. There does appear to be regular rush-hour traffic in and around the major metro areas of Charleston, Myrtle Beach, and Wilmington. This suggests that most people were at work today.\n",
    "\n",
    "All of this evidence leads me to infer that:\n",
    "\n",
    "1. Few people evacuated on Monday.\n",
    "    - Timing of evacuation orders.\n",
    "    - Lack of traffic jams.\n",
    "    - Several days until earliest landfall.\n",
    "1. Most people went to work on Monday.\n",
    "    - Inferred lack of evacuations.\n",
    "    - Rush hour traffic.\n",
    "1. **(Therefore,) The effect of Florence on reported September employement in the Carolinas (and the greater U.S.) will be negligible.**\n",
    "    - Inferred that most people worked Monday.\n",
    "    - People who worked on Monday will be counted in payroll and, therefore, as employed.\n",
    "\n",
    "Below, I discuss one example of a hurricane that did significantly affect employment (Irma) and one example of a hurricane that did not affect employment (Charley). Both hurricanes occurred around the week of the 12th of the month. However, Irma evacuations began in earnest on the weekend before employment counts while Charley evacuations did not occur until later in the week.\n",
    "\n",
    "If Florence did affect employment significantly, it would probably have to be in October. However, this would only happen if Florence is so devastating that large parts of the economy are still shut down in the following month. This was the case with Hurricane Katrina, which is discussed last.\n"
   ]
  },
  {
   "cell_type": "markdown",
   "metadata": {},
   "source": [
    "![Forecasted Path of Hurricane Florence, 10 September 2018 @5pm CST](https://www.nhc.noaa.gov/storm_graphics/AT06/refresh/AL062018_earliest_reasonable_toa_34+png/205721_earliest_reasonable_toa_34.png)\n",
    "\n",
    "_**Forecasted Path of Hurricane Florence, 10 September 2018 @5pm CST**_ (Source:  [National Hurricane Center](https://www.nhc.noaa.gov/refresh/graphics_at1+shtml/205721.shtml?mltoa34#contents))"
   ]
  },
  {
   "cell_type": "code",
   "execution_count": 1,
   "metadata": {},
   "outputs": [
    {
     "data": {
      "text/html": [
       "<iframe width=\"400\" height=\"400\" src=\"https://google.org/crisismap/2018-florence?hl=en&llbox=34.905%2C32.191%2C-75.093%2C-82.124&t=HYBRID&layers=1340722113768%2C3%3A100%2C4%2Clayer9%2Clayer8%2C1340721332252%3A100%2C24&embedded=true\" style=\"border: 1px solid #ccc\"></iframe>"
      ],
      "text/plain": [
       "<IPython.core.display.HTML object>"
      ]
     },
     "metadata": {},
     "output_type": "display_data"
    }
   ],
   "source": [
    "%%html\n",
    "<iframe width=\"400\" height=\"400\" src=\"https://google.org/crisismap/2018-florence?hl=en&llbox=34.905%2C32.191%2C-75.093%2C-82.124&t=HYBRID&layers=1340722113768%2C3%3A100%2C4%2Clayer9%2Clayer8%2C1340721332252%3A100%2C24&embedded=true\" style=\"border: 1px solid #ccc\"></iframe>"
   ]
  },
  {
   "cell_type": "code",
   "execution_count": 2,
   "metadata": {},
   "outputs": [],
   "source": [
    "import pandas as pd\n",
    "import numpy as np"
   ]
  },
  {
   "cell_type": "markdown",
   "metadata": {},
   "source": [
    "## Effect of Irma on Florida\n",
    "\n",
    "Irma struck during the survey reference week. The BLS discussed this in the [release](https://www.bls.gov/news.release/archives/empsit_10062017.htm) and [Commissioner's statement](https://www.bls.gov/news.release/jec.nr0.htm). Overall, employment was down 33,000 for the month (unrevised) but up 18,000 in the [revised statistics](https://www.bls.gov/news.release/archives/empsit_11032017.htm).\n",
    "\n",
    "From [Wikipedia](https://en.wikipedia.org/wiki/Effects_of_Hurricane_Irma_in_Florida): With both the Atlantic and Gulf coasts of the state threatened, record evacuations ensued with an estimated 6.5 million people relocating statewide.\n",
    "\n",
    "[Georgia](https://en.wikipedia.org/wiki/Hurricane_Irma#Other_states) also issued evacuation orders for all areas east of I-95, which hugs the coast."
   ]
  },
  {
   "cell_type": "code",
   "execution_count": 3,
   "metadata": {
    "jupyter": {
     "source_hidden": true
    }
   },
   "outputs": [
    {
     "data": {
      "text/html": [
       "<iframe src=\"//fred.stlouisfed.org/graph/graph-landing.php?g=l98S&width=670&height=475\" scrolling=\"no\" frameborder=\"0\" style=\"overflow:hidden; width:670px; height:525px;\" allowTransparency=\"true\"></iframe>"
      ],
      "text/plain": [
       "<IPython.core.display.HTML object>"
      ]
     },
     "metadata": {},
     "output_type": "display_data"
    }
   ],
   "source": [
    "%%html\n",
    "<iframe src=\"//fred.stlouisfed.org/graph/graph-landing.php?g=l98S&width=670&height=475\" scrolling=\"no\" frameborder=\"0\" style=\"overflow:hidden; width:670px; height:525px;\" allowTransparency=\"true\"></iframe>"
   ]
  },
  {
   "cell_type": "markdown",
   "metadata": {},
   "source": [
    "There is a clear break for Florida but not for Georgia."
   ]
  },
  {
   "cell_type": "code",
   "execution_count": 4,
   "metadata": {},
   "outputs": [
    {
     "name": "stdout",
     "output_type": "stream",
     "text": [
      "Aug\t8602.0\n",
      "Sep\t8435.1\n",
      "Oct\t8614.7\n",
      "\n",
      "Average of August and October: 8608.35\n",
      "Difference between average and observed Septemer:\n",
      "\tThousands: -173.25\n",
      "\tPercent: -0.020331091151930616\n"
     ]
    }
   ],
   "source": [
    "fle = dict(Aug= 8602.0, Sep=8435.1, Oct=8614.7)\n",
    "for k,v in fle.items():\n",
    "    print('{}\\t{}'.format(k,v))\n",
    "    \n",
    "aoa = (fle['Aug'] + fle['Oct'])/2\n",
    "print()\n",
    "print('Average of August and October: {}'.format(aoa))\n",
    "print('Difference between average and observed Septemer:\\n\\tThousands: {}\\n\\tPercent: {}'.format(fle['Sep']-aoa, np.log(fle['Sep']/aoa)))"
   ]
  },
  {
   "cell_type": "markdown",
   "metadata": {},
   "source": [
    "Now let's see how this looks in the national picture. I've plotted the employment change for both the U.S. and Florida:"
   ]
  },
  {
   "cell_type": "code",
   "execution_count": 5,
   "metadata": {
    "jupyter": {
     "source_hidden": true
    }
   },
   "outputs": [
    {
     "data": {
      "text/html": [
       "<iframe src=\"//fred.stlouisfed.org/graph/graph-landing.php?g=l9af&width=670&height=475\" scrolling=\"no\" frameborder=\"0\" style=\"overflow:hidden; width:670px; height:525px;\" allowTransparency=\"true\"></iframe>"
      ],
      "text/plain": [
       "<IPython.core.display.HTML object>"
      ]
     },
     "metadata": {},
     "output_type": "display_data"
    }
   ],
   "source": [
    "%%html\n",
    "<iframe src=\"//fred.stlouisfed.org/graph/graph-landing.php?g=l9af&width=670&height=475\" scrolling=\"no\" frameborder=\"0\" style=\"overflow:hidden; width:670px; height:525px;\" allowTransparency=\"true\"></iframe>"
   ]
  },
  {
   "cell_type": "markdown",
   "metadata": {},
   "source": [
    "How much of the weak employment growth for September 2017 can be accounted for by Florida? Let's suppose that without a storm:\n",
    "\n",
    "1. Measured US employment in September was at the mean of August and October.\n",
    "1. Measured Florida employment in September was at the mean of August and October.\n",
    "\n",
    "So then we have:"
   ]
  },
  {
   "cell_type": "code",
   "execution_count": 6,
   "metadata": {
    "jupyter": {
     "source_hidden": true
    }
   },
   "outputs": [
    {
     "name": "stdout",
     "output_type": "stream",
     "text": [
      "Number of employees unaccounted for by Florida decline:    58.750 thous.\n",
      "Percent of employment difference accounted for by Florida: 76.118%\n"
     ]
    }
   ],
   "source": [
    "aoan = (221+271)/2\n",
    "unemp = ((aoan-14)              # Difference between assumed and measured\n",
    "         -((aoa-fle['Aug'])       # Counterfactual differnce FL\n",
    "           -(fle['Sep']-fle['Aug']) # Trust Difference Florida\n",
    "          )\n",
    "        )\n",
    "\n",
    "print('Number of employees unaccounted for by Florida decline:    {:4.3f} thous.'.format(unemp))\n",
    "print('Percent of employment difference accounted for by Florida: {:4.3f}%'.format(100*(aoan-unemp)/aoan))"
   ]
  },
  {
   "cell_type": "markdown",
   "metadata": {},
   "source": [
    "So it appears that Florida can account for a large majority of the weak employment result for September."
   ]
  },
  {
   "cell_type": "markdown",
   "metadata": {},
   "source": [
    "## Effect of Hurricane Charley (Aug. 2004) on Florida\n",
    "\n",
    "Charley was a Category 4 hurricane that struck Florida on August 13, 2004. This was the Friday of the reporting period. Two million were ordered to evacuate. \n",
    "\n",
    "However, the evacuations did not occur until later in the week, which meant that there was no discernible impact on employment both overall or in Florida. The BLS noted this in their [report for August](https://www.bls.gov/news.release/history/empsit_09032004.txt). In September additional hurricanes hit and that [did affect employment](https://www.bls.gov/news.release/history/empsit_10082004.txt)."
   ]
  },
  {
   "cell_type": "code",
   "execution_count": 7,
   "metadata": {
    "jupyter": {
     "source_hidden": true
    }
   },
   "outputs": [
    {
     "data": {
      "text/html": [
       "<iframe src=\"//fred.stlouisfed.org/graph/graph-landing.php?g=l9dN&width=670&height=475\" scrolling=\"no\" frameborder=\"0\" style=\"overflow:hidden; width:670px; height:525px;\" allowTransparency=\"true\"></iframe>"
      ],
      "text/plain": [
       "<IPython.core.display.HTML object>"
      ]
     },
     "metadata": {},
     "output_type": "display_data"
    }
   ],
   "source": [
    "%%html\n",
    "<iframe src=\"//fred.stlouisfed.org/graph/graph-landing.php?g=l9dN&width=670&height=475\" scrolling=\"no\" frameborder=\"0\" style=\"overflow:hidden; width:670px; height:525px;\" allowTransparency=\"true\"></iframe>"
   ]
  },
  {
   "cell_type": "markdown",
   "metadata": {},
   "source": [
    "## Effects of Katrina on Louisiana\n",
    "\n",
    "Between [1.2](https://www.nhc.noaa.gov/data/tcr/AL122005_Katrina.pdf) and [1.5](https://www.nap.edu/read/11840/chapter/5) million people evacuated Louisiana during and after Katrina. Employment in Louisiana fell for two straight months.\n",
    "\n",
    "Although fewer people evacuated Louisiana than Florida during Irma (6.5m), the decline in employment was much larger on a per-evacuee basis. The persistence of the decline suggests that this higher ratio is attributable to the severity of the storm.\n",
    "\n",
    "Overall U.S. unemployment took a dive in September, 2005. The series was much more volatile during that period, though, so I won't try to say how much of it was do to Katrina. \n",
    "\n",
    "See also the [BLS](https://www.bls.gov/katrina/cpscesquestions.htm) "
   ]
  },
  {
   "cell_type": "code",
   "execution_count": 8,
   "metadata": {
    "jupyter": {
     "source_hidden": true
    }
   },
   "outputs": [
    {
     "data": {
      "text/html": [
       "<iframe src=\"//fred.stlouisfed.org/graph/graph-landing.php?g=l9by&width=670&height=475\" scrolling=\"no\" frameborder=\"0\" style=\"overflow:hidden; width:670px; height:525px;\" allowTransparency=\"true\"></iframe>"
      ],
      "text/plain": [
       "<IPython.core.display.HTML object>"
      ]
     },
     "metadata": {},
     "output_type": "display_data"
    }
   ],
   "source": [
    "%%html\n",
    "<iframe src=\"//fred.stlouisfed.org/graph/graph-landing.php?g=l9by&width=670&height=475\" scrolling=\"no\" frameborder=\"0\" style=\"overflow:hidden; width:670px; height:525px;\" allowTransparency=\"true\"></iframe>"
   ]
  },
  {
   "cell_type": "markdown",
   "metadata": {},
   "source": [
    "## Average Hours Worked\n",
    "\n",
    "- South Carolina\n",
    "    - Beaufort\n",
    "    - Charleston\n",
    "    - Georgetown\n",
    "    - Horry\n",
    "\n",
    "Here is the game plan:\n",
    "\n",
    "- Three main bits of data to bring together:\n",
    "    1. Focus on workers paid by the hour.\n",
    "        - Generally, these are where the swings in hours worked are going to come from. _Show this empirically?_\n",
    "        - From CPS can get information about people who are paid by the hour.\n",
    "        - Get estimates for the percentage of each 2-digit sector that are paid by the hour.\n",
    "    1. Look at counties in flood zones.\n",
    "        - Expect that this is where most of the evacuations and damage will be.\n",
    "        - Can get this data from the [BLS Flood Zone Area Maps](https://www.bls.gov/cew/hurricane_zones/maps.htm).\n",
    "        - Focus on South Carolina, North Carolina, and [maybe] southern Virginia.\n",
    "        - Have info about share of employees in each given flood zone.\n",
    "    1. Get employment in each county in each sector:\n",
    "        - Can get this from the [BLS Quarterly Census of Employment and Wages](https://www.bls.gov/cew/)\n",
    "- Combine the data:\n",
    "    1. Estimate share of workers in each county paid by the hour:\n",
    "        - Merge the paid-by-the-hour and county employment statistics.\n",
    "    1. Assume:\n",
    "        - Always assume that:\n",
    "            1. The share of workers paid by the hour is independent of location in the county.\n",
    "            1. Worker hours are uniformly distributed across a 5-day work week. Alternatively, assume that the average worker has their work week uniformly distributed.\n",
    "        1. Need to make parameter assumptions/judgment calls about:\n",
    "            1. Share of people that are evacuating:\n",
    "                - Which flood zones?\n",
    "                - Or just all in county?\n",
    "                - Any other counties?\n",
    "                - How many places will stay open?\n",
    "            1. How long average evacuation will persist. (Up to end of week.)"
   ]
  },
  {
   "cell_type": "code",
   "execution_count": 9,
   "metadata": {},
   "outputs": [],
   "source": [
    "%load_ext autoreload\n",
    "%autoreload 2"
   ]
  },
  {
   "cell_type": "code",
   "execution_count": 10,
   "metadata": {},
   "outputs": [],
   "source": [
    "import sys\n",
    "import pandas as pd\n",
    "import numpy as np\n",
    "\n",
    "import hurricane_florence_code as hf"
   ]
  },
  {
   "cell_type": "markdown",
   "metadata": {},
   "source": [
    "### Data Sources"
   ]
  },
  {
   "cell_type": "code",
   "execution_count": 11,
   "metadata": {},
   "outputs": [],
   "source": [
    "# Sector Statistics \n",
    "# (Note: Adds path to custom module on MW machine. Send email for module)\n",
    "sec = hf.sector_stats()\n",
    "# Counties in flood zone\n",
    "cty = hf.flood_counties()\n",
    "# Employment by sector in flood counties (as of 2018:1)\n",
    "emp = hf.flood_county_employment_stats()"
   ]
  },
  {
   "cell_type": "markdown",
   "metadata": {},
   "source": [
    "#### Share of each Supersector $\\times$ County that are paid by the hour\n",
    "\n",
    "- From CPS\n",
    "- For now, just use copy+pasted table from the SDA data tool. (Get full data extract when ready.)\n",
    "- Convert industry from CPS to NAICS supersector codes."
   ]
  },
  {
   "cell_type": "code",
   "execution_count": 12,
   "metadata": {},
   "outputs": [
    {
     "data": {
      "text/html": [
       "<div>\n",
       "<style scoped>\n",
       "    .dataframe tbody tr th:only-of-type {\n",
       "        vertical-align: middle;\n",
       "    }\n",
       "\n",
       "    .dataframe tbody tr th {\n",
       "        vertical-align: top;\n",
       "    }\n",
       "\n",
       "    .dataframe thead th {\n",
       "        text-align: right;\n",
       "    }\n",
       "</style>\n",
       "<table border=\"1\" class=\"dataframe\">\n",
       "  <thead>\n",
       "    <tr style=\"text-align: right;\">\n",
       "      <th></th>\n",
       "      <th>county</th>\n",
       "      <th>fips</th>\n",
       "      <th>state</th>\n",
       "      <th>ind</th>\n",
       "      <th>emp</th>\n",
       "      <th>est</th>\n",
       "      <th>paidhour</th>\n",
       "      <th>workweek</th>\n",
       "      <th>n_pbh</th>\n",
       "    </tr>\n",
       "  </thead>\n",
       "  <tbody>\n",
       "    <tr>\n",
       "      <th>0</th>\n",
       "      <td>Beaufort</td>\n",
       "      <td>45013</td>\n",
       "      <td>South Carolina</td>\n",
       "      <td>11</td>\n",
       "      <td>0.000000</td>\n",
       "      <td>25.000000</td>\n",
       "      <td>0.567759</td>\n",
       "      <td>41.103686</td>\n",
       "      <td>0.000000</td>\n",
       "    </tr>\n",
       "    <tr>\n",
       "      <th>1</th>\n",
       "      <td>Beaufort</td>\n",
       "      <td>45013</td>\n",
       "      <td>South Carolina</td>\n",
       "      <td>21</td>\n",
       "      <td>0.000000</td>\n",
       "      <td>1.000000</td>\n",
       "      <td>0.550119</td>\n",
       "      <td>49.975715</td>\n",
       "      <td>0.000000</td>\n",
       "    </tr>\n",
       "    <tr>\n",
       "      <th>2</th>\n",
       "      <td>Beaufort</td>\n",
       "      <td>45013</td>\n",
       "      <td>South Carolina</td>\n",
       "      <td>22</td>\n",
       "      <td>57.000000</td>\n",
       "      <td>3.666667</td>\n",
       "      <td>0.557652</td>\n",
       "      <td>42.231397</td>\n",
       "      <td>31.786164</td>\n",
       "    </tr>\n",
       "    <tr>\n",
       "      <th>3</th>\n",
       "      <td>Beaufort</td>\n",
       "      <td>45013</td>\n",
       "      <td>South Carolina</td>\n",
       "      <td>23</td>\n",
       "      <td>3865.000000</td>\n",
       "      <td>714.000000</td>\n",
       "      <td>0.646166</td>\n",
       "      <td>40.464400</td>\n",
       "      <td>2497.430520</td>\n",
       "    </tr>\n",
       "    <tr>\n",
       "      <th>4</th>\n",
       "      <td>Beaufort</td>\n",
       "      <td>45013</td>\n",
       "      <td>South Carolina</td>\n",
       "      <td>42</td>\n",
       "      <td>584.333333</td>\n",
       "      <td>171.000000</td>\n",
       "      <td>0.465580</td>\n",
       "      <td>42.063000</td>\n",
       "      <td>272.054096</td>\n",
       "    </tr>\n",
       "  </tbody>\n",
       "</table>\n",
       "</div>"
      ],
      "text/plain": [
       "     county   fips           state ind          emp         est  paidhour  \\\n",
       "0  Beaufort  45013  South Carolina  11     0.000000   25.000000  0.567759   \n",
       "1  Beaufort  45013  South Carolina  21     0.000000    1.000000  0.550119   \n",
       "2  Beaufort  45013  South Carolina  22    57.000000    3.666667  0.557652   \n",
       "3  Beaufort  45013  South Carolina  23  3865.000000  714.000000  0.646166   \n",
       "4  Beaufort  45013  South Carolina  42   584.333333  171.000000  0.465580   \n",
       "\n",
       "    workweek        n_pbh  \n",
       "0  41.103686     0.000000  \n",
       "1  49.975715     0.000000  \n",
       "2  42.231397    31.786164  \n",
       "3  40.464400  2497.430520  \n",
       "4  42.063000   272.054096  "
      ]
     },
     "execution_count": 12,
     "metadata": {},
     "output_type": "execute_result"
    }
   ],
   "source": [
    "# Combine County and Industry Paid by hour datasets\n",
    "emp = emp.merge(sec, on='ind', how='left')\n",
    "\n",
    "# Number of employmees in each (ind, county) paid by hour\n",
    "emp['n_pbh'] = emp['paidhour'] * emp['emp']\n",
    "\n",
    "# More info for viewing\n",
    "emp = cty.merge(emp, on='fips')\n",
    "\n",
    "emp.head()"
   ]
  },
  {
   "cell_type": "code",
   "execution_count": 13,
   "metadata": {},
   "outputs": [],
   "source": [
    "# Average Hours per day based on 5-day workweek\n",
    "emp['hrs'] = emp['workweek'] / 5\n",
    "\n",
    "# Total employment in US in August 2018\n",
    "emp['emp_us'] = emp_us = 126939000\n",
    "# Total Weekly Hours in US\n",
    "emp['ww_us'] = ww_us = 34.5\n",
    "# By State\n",
    "emp = hf.state_emp_hrs(emp)"
   ]
  },
  {
   "cell_type": "code",
   "execution_count": 14,
   "metadata": {},
   "outputs": [
    {
     "data": {
      "text/html": [
       "<iframe src=\"//fred.stlouisfed.org/graph/graph-landing.php?g=lb9i&width=400&height=300\" scrolling=\"no\" frameborder=\"0\" style=\"overflow:hidden; width:400px; height:300px;\" allowTransparency=\"true\"></iframe>\n",
       "<iframe src=\"//fred.stlouisfed.org/graph/graph-landing.php?g=lb94&width=400&height=300\" scrolling=\"no\" frameborder=\"0\" style=\"overflow:hidden; width:400px; height:300px;\" allowTransparency=\"true\"></iframe>"
      ],
      "text/plain": [
       "<IPython.core.display.HTML object>"
      ]
     },
     "metadata": {},
     "output_type": "display_data"
    }
   ],
   "source": [
    "%%html\n",
    "<iframe src=\"//fred.stlouisfed.org/graph/graph-landing.php?g=lb9i&width=400&height=300\" scrolling=\"no\" frameborder=\"0\" style=\"overflow:hidden; width:400px; height:300px;\" allowTransparency=\"true\"></iframe>\n",
    "<iframe src=\"//fred.stlouisfed.org/graph/graph-landing.php?g=lb94&width=400&height=300\" scrolling=\"no\" frameborder=\"0\" style=\"overflow:hidden; width:400px; height:300px;\" allowTransparency=\"true\"></iframe>"
   ]
  },
  {
   "cell_type": "markdown",
   "metadata": {},
   "source": [
    "#### Impacts"
   ]
  },
  {
   "cell_type": "code",
   "execution_count": 15,
   "metadata": {},
   "outputs": [
    {
     "name": "stdout",
     "output_type": "stream",
     "text": [
      "United States\n",
      "Workweek (Florence)\tWorkweek (Usual)\tPercent Diff.\n",
      "             34.412\t            34.500\t      -0.254%\n",
      "-----------------------------------------------------------------\n",
      "BY STATE:\n"
     ]
    },
    {
     "data": {
      "text/html": [
       "<div>\n",
       "<style scoped>\n",
       "    .dataframe tbody tr th:only-of-type {\n",
       "        vertical-align: middle;\n",
       "    }\n",
       "\n",
       "    .dataframe tbody tr th {\n",
       "        vertical-align: top;\n",
       "    }\n",
       "\n",
       "    .dataframe thead th {\n",
       "        text-align: right;\n",
       "    }\n",
       "</style>\n",
       "<table border=\"1\" class=\"dataframe\">\n",
       "  <thead>\n",
       "    <tr style=\"text-align: right;\">\n",
       "      <th></th>\n",
       "      <th>state</th>\n",
       "      <th>Workweek (Florence)</th>\n",
       "      <th>Workweek (Usual)</th>\n",
       "      <th>Percent Difference</th>\n",
       "    </tr>\n",
       "  </thead>\n",
       "  <tbody>\n",
       "    <tr>\n",
       "      <th>0</th>\n",
       "      <td>Georgia</td>\n",
       "      <td>34.568843</td>\n",
       "      <td>35.2</td>\n",
       "      <td>-1.809328</td>\n",
       "    </tr>\n",
       "    <tr>\n",
       "      <th>1</th>\n",
       "      <td>North Carolina</td>\n",
       "      <td>33.811446</td>\n",
       "      <td>35.0</td>\n",
       "      <td>-3.454867</td>\n",
       "    </tr>\n",
       "    <tr>\n",
       "      <th>2</th>\n",
       "      <td>South Carolina</td>\n",
       "      <td>32.219555</td>\n",
       "      <td>34.6</td>\n",
       "      <td>-7.128011</td>\n",
       "    </tr>\n",
       "  </tbody>\n",
       "</table>\n",
       "</div>"
      ],
      "text/plain": [
       "            state  Workweek (Florence)  Workweek (Usual)  Percent Difference\n",
       "0         Georgia            34.568843              35.2           -1.809328\n",
       "1  North Carolina            33.811446              35.0           -3.454867\n",
       "2  South Carolina            32.219555              34.6           -7.128011"
      ]
     },
     "execution_count": 15,
     "metadata": {},
     "output_type": "execute_result"
    }
   ],
   "source": [
    "# HYPERPARAMETERS\n",
    "days_off = 4\n",
    "pct_off = 0.95\n",
    "\n",
    "hf.compute_hours_impact(emp, days_off, pct_off)"
   ]
  },
  {
   "cell_type": "markdown",
   "metadata": {},
   "source": [
    "## Resources\n",
    "\n",
    "- [WaPo: Hurricane Florence intensifies to Category 4, continues to strengthen on path to East Coast](https://www.washingtonpost.com/news/capital-weather-gang/wp/2018/09/09/florence-strengthens-to-hurricane-and-poses-extreme-threat-to-southeast-and-mid-atlantic/?utm_term=.6a0ef18bc40b)\n",
    "    - \"Many people in the Southeast and Mid-Atlantic probably have not experienced a storm of the potential magnitude of Florence.\"\n",
    "    - NC's Dare and Hatteras counties under mandatory evacuation.\n",
    "- [BLS Flood Zone Area Maps](https://www.bls.gov/cew/hurricane_zones/maps.htm)"
   ]
  },
  {
   "cell_type": "code",
   "execution_count": null,
   "metadata": {},
   "outputs": [],
   "source": []
  },
  {
   "cell_type": "code",
   "execution_count": null,
   "metadata": {},
   "outputs": [],
   "source": []
  },
  {
   "cell_type": "code",
   "execution_count": null,
   "metadata": {},
   "outputs": [],
   "source": []
  },
  {
   "cell_type": "code",
   "execution_count": null,
   "metadata": {},
   "outputs": [],
   "source": []
  },
  {
   "cell_type": "code",
   "execution_count": null,
   "metadata": {},
   "outputs": [],
   "source": []
  },
  {
   "cell_type": "code",
   "execution_count": null,
   "metadata": {},
   "outputs": [],
   "source": []
  },
  {
   "cell_type": "code",
   "execution_count": null,
   "metadata": {},
   "outputs": [],
   "source": []
  }
 ],
 "metadata": {
  "kernelspec": {
   "display_name": "Python 3",
   "language": "python",
   "name": "python3"
  },
  "language_info": {
   "codemirror_mode": {
    "name": "ipython",
    "version": 3
   },
   "file_extension": ".py",
   "mimetype": "text/x-python",
   "name": "python",
   "nbconvert_exporter": "python",
   "pygments_lexer": "ipython3",
   "version": "3.7.0"
  }
 },
 "nbformat": 4,
 "nbformat_minor": 2
}
