{
 "cells": [
  {
   "cell_type": "markdown",
   "metadata": {},
   "source": [
    "# Hurricane Florence: Potential Employment Impacts\n",
    "_10 September 2018_\n",
    "Michael Wooley.\n",
    "\n",
    "It is possible for hurricanes to throw off employment counts if they cause workers to miss work. While shutdowns due to this factor are important, they can generate large distortions in the data that need to be distinguished from other transitory and secular factors.\n",
    "\n",
    "Employment in the Establishment Survey (the source of headline employment) is tallied as the number of people on establishment payrolls during _any part_ of the week on which the 12th of the month falls.\n",
    "\n",
    "Currently, Hurricane Florence is on path to make landfall at early Wednesday at the earliest. In North Carolina mandatory evacuations of the Outer Banks area were ordered at [noon Monday](https://weather.com/safety/hurricane/news/2018-09-10-hurricane-florence-preparations-southeast-coast-north-carolina). Voluntary evacuations of UNC-Wilmington were to begin on noon Monday. At around 3pm EDT evacuations of the coastal area of South Carolina were [ordered to begin at noon Tuesday](https://www.postandcourier.com/news/evacuations-ordered-for-sc-coast-as-hurricane-florence-nears-effective/article_ecae59d2-b507-11e8-b430-c30c881683a8.html).\n",
    "\n",
    "Interest in \"Emergency Evacuation\" at [Google Trends](https://trends.google.com/trends/explore?date=now%201-d&geo=US-NC&q=%2Fm%2F058th7) only began to pick up in the mid-afternoon in both South and North Carolina. There do not appear to be any major traffic jams on _outgoing_ highways in the evacuation areas as of 6pm EDT. This suggests that evacuations have yet to begin in earnest. There does appear to be regular rush-hour traffic in and around the major metro areas of Charleston, Myrtle Beach, and Wilmington. This suggests that most people were at work today.\n",
    "\n",
    "All of this evidence leads me to infer that:\n",
    "\n",
    "1. Few people evacuated on Monday.\n",
    "    - Timing of evacuation orders.\n",
    "    - Lack of traffic jams.\n",
    "    - Several days until earliest landfall.\n",
    "1. Most people went to work on Monday.\n",
    "    - Inferred lack of evacuations.\n",
    "    - Rush hour traffic.\n",
    "1. **(Therefore,) The effect of Florence on reported September employement in the Carolinas (and the greater U.S.) will be negligible.**\n",
    "    - Inferred that most people worked Monday.\n",
    "    - People who worked on Monday will be counted in payroll and, therefore, as employed.\n",
    "\n",
    "Below, I discuss one example of a hurricane that did significantly affect employment (Irma) and one example of a hurricane that did not affect employment (Charley). Both hurricanes occurred around the week of the 12th of the month. However, Irma evacuations began in earnest on the weekend before employment counts while Charley evacuations did not occur until later in the week.\n",
    "\n",
    "If Florence did affect employment significantly, it would probably have to be in October. However, this would only happen if Florence is so devastating that large parts of the economy are still shut down in the following month. This was the case with Hurricane Katrina, which is discussed last.\n"
   ]
  },
  {
   "cell_type": "markdown",
   "metadata": {},
   "source": [
    "![Forecasted Path of Hurricane Florence, 10 September 2018 @5pm CST](https://www.nhc.noaa.gov/storm_graphics/AT06/refresh/AL062018_earliest_reasonable_toa_34+png/205721_earliest_reasonable_toa_34.png)\n",
    "\n",
    "_**Forecasted Path of Hurricane Florence, 10 September 2018 @5pm CST**_ (Source:  [National Hurricane Center](https://www.nhc.noaa.gov/refresh/graphics_at1+shtml/205721.shtml?mltoa34#contents))"
   ]
  },
  {
   "cell_type": "code",
   "execution_count": 35,
   "metadata": {
    "jupyter": {
     "source_hidden": true
    }
   },
   "outputs": [
    {
     "data": {
      "text/html": [
       "<iframe width=\"400\" height=\"400\" src=\"https://google.org/crisismap/2018-florence?hl=en&llbox=34.905%2C32.191%2C-75.093%2C-82.124&t=HYBRID&layers=1340722113768%2C3%3A100%2C4%2Clayer9%2Clayer8%2C1340721332252%3A100%2C24&embedded=true\" style=\"border: 1px solid #ccc\"></iframe>"
      ],
      "text/plain": [
       "<IPython.core.display.HTML object>"
      ]
     },
     "metadata": {},
     "output_type": "display_data"
    }
   ],
   "source": [
    "%%html\n",
    "<iframe width=\"400\" height=\"400\" src=\"https://google.org/crisismap/2018-florence?hl=en&llbox=34.905%2C32.191%2C-75.093%2C-82.124&t=HYBRID&layers=1340722113768%2C3%3A100%2C4%2Clayer9%2Clayer8%2C1340721332252%3A100%2C24&embedded=true\" style=\"border: 1px solid #ccc\"></iframe>"
   ]
  },
  {
   "cell_type": "code",
   "execution_count": 2,
   "metadata": {},
   "outputs": [],
   "source": [
    "import pandas as pd\n",
    "import numpy as np"
   ]
  },
  {
   "cell_type": "markdown",
   "metadata": {},
   "source": [
    "## Effect of Irma on Florida\n",
    "\n",
    "Irma struck during the survey reference week. The BLS discussed this in the [release](https://www.bls.gov/news.release/archives/empsit_10062017.htm) and [Commissioner's statement](https://www.bls.gov/news.release/jec.nr0.htm). Overall, employment was down 33,000 for the month (unrevised) but up 18,000 in the [revised statistics](https://www.bls.gov/news.release/archives/empsit_11032017.htm).\n",
    "\n",
    "From [Wikipedia](https://en.wikipedia.org/wiki/Effects_of_Hurricane_Irma_in_Florida): With both the Atlantic and Gulf coasts of the state threatened, record evacuations ensued with an estimated 6.5 million people relocating statewide.\n",
    "\n",
    "[Georgia](https://en.wikipedia.org/wiki/Hurricane_Irma#Other_states) also issued evacuation orders for all areas east of I-95, which hugs the coast."
   ]
  },
  {
   "cell_type": "code",
   "execution_count": 4,
   "metadata": {
    "jupyter": {
     "source_hidden": true
    }
   },
   "outputs": [
    {
     "data": {
      "text/html": [
       "<iframe src=\"//fred.stlouisfed.org/graph/graph-landing.php?g=l98S&width=670&height=475\" scrolling=\"no\" frameborder=\"0\" style=\"overflow:hidden; width:670px; height:525px;\" allowTransparency=\"true\"></iframe>"
      ],
      "text/plain": [
       "<IPython.core.display.HTML object>"
      ]
     },
     "metadata": {},
     "output_type": "display_data"
    }
   ],
   "source": [
    "%%html\n",
    "<iframe src=\"//fred.stlouisfed.org/graph/graph-landing.php?g=l98S&width=670&height=475\" scrolling=\"no\" frameborder=\"0\" style=\"overflow:hidden; width:670px; height:525px;\" allowTransparency=\"true\"></iframe>"
   ]
  },
  {
   "cell_type": "markdown",
   "metadata": {},
   "source": [
    "There is a clear break for Florida but not for Georgia."
   ]
  },
  {
   "cell_type": "code",
   "execution_count": 8,
   "metadata": {},
   "outputs": [
    {
     "name": "stdout",
     "output_type": "stream",
     "text": [
      "Aug\t8602.0\n",
      "Sep\t8435.1\n",
      "Oct\t8614.7\n",
      "\n",
      "Average of August and October: 8608.35\n",
      "Difference between average and observed Septemer:\n",
      "\tThousands: -173.25\n",
      "\tPercent: -0.020331091151930616\n"
     ]
    }
   ],
   "source": [
    "fle = dict(Aug= 8602.0, Sep=8435.1, Oct=8614.7)\n",
    "for k,v in fle.items():\n",
    "    print('{}\\t{}'.format(k,v))\n",
    "    \n",
    "aoa = (fle['Aug'] + fle['Oct'])/2\n",
    "print()\n",
    "print('Average of August and October: {}'.format(aoa))\n",
    "print('Difference between average and observed Septemer:\\n\\tThousands: {}\\n\\tPercent: {}'.format(fle['Sep']-aoa, np.log(fle['Sep']/aoa)))"
   ]
  },
  {
   "cell_type": "markdown",
   "metadata": {},
   "source": [
    "Now let's see how this looks in the national picture. I've plotted the employment change for both the U.S. and Florida:"
   ]
  },
  {
   "cell_type": "code",
   "execution_count": 9,
   "metadata": {
    "jupyter": {
     "source_hidden": true
    }
   },
   "outputs": [
    {
     "data": {
      "text/html": [
       "<iframe src=\"//fred.stlouisfed.org/graph/graph-landing.php?g=l9af&width=670&height=475\" scrolling=\"no\" frameborder=\"0\" style=\"overflow:hidden; width:670px; height:525px;\" allowTransparency=\"true\"></iframe>"
      ],
      "text/plain": [
       "<IPython.core.display.HTML object>"
      ]
     },
     "metadata": {},
     "output_type": "display_data"
    }
   ],
   "source": [
    "%%html\n",
    "<iframe src=\"//fred.stlouisfed.org/graph/graph-landing.php?g=l9af&width=670&height=475\" scrolling=\"no\" frameborder=\"0\" style=\"overflow:hidden; width:670px; height:525px;\" allowTransparency=\"true\"></iframe>"
   ]
  },
  {
   "cell_type": "markdown",
   "metadata": {},
   "source": [
    "How much of the weak employment growth for September 2017 can be accounted for by Florida? Let's suppose that without a storm:\n",
    "\n",
    "1. Measured US employment in September was at the mean of August and October.\n",
    "1. Measured Florida employment in September was at the mean of August and October.\n",
    "\n",
    "So then we have:"
   ]
  },
  {
   "cell_type": "code",
   "execution_count": 27,
   "metadata": {
    "jupyter": {
     "source_hidden": true
    }
   },
   "outputs": [
    {
     "name": "stdout",
     "output_type": "stream",
     "text": [
      "   Number of employees unaccounted for by Florida decline: 58.750 thous.\n",
      "Percent of employment difference accounted for by Florida: 76.118%\n"
     ]
    }
   ],
   "source": [
    "aoan = (221+271)/2\n",
    "unemp = ((aoan-14)              # Difference between assumed and measured\n",
    "         -((aoa-fle['Aug'])       # Counterfactual differnce FL\n",
    "           -(fle['Sep']-fle['Aug']) # Trust Difference Florida\n",
    "          )\n",
    "        )\n",
    "\n",
    "print('Number of employees unaccounted for by Florida decline:    {:4.3f} thous.'.format(unemp))\n",
    "print('Percent of employment difference accounted for by Florida: {:4.3f}%'.format(100*(aoan-unemp)/aoan))"
   ]
  },
  {
   "cell_type": "markdown",
   "metadata": {},
   "source": [
    "So it appears that Florida can account for a large majority of the weak employment result for September."
   ]
  },
  {
   "cell_type": "markdown",
   "metadata": {},
   "source": [
    "## Effect of Hurricane Charley (Aug. 2004) on Florida\n",
    "\n",
    "Charley was a Category 4 hurricane that struck Florida on August 13, 2004. This was the Friday of the reporting period. Two million were ordered to evacuate. \n",
    "\n",
    "However, the evacuations did not occur until later in the week, which meant that there was no discernible impact on employment both overall or in Florida. The BLS noted this in their [report for August](https://www.bls.gov/news.release/history/empsit_09032004.txt). In September additional hurricanes hit and that [did affect employment](https://www.bls.gov/news.release/history/empsit_10082004.txt)."
   ]
  },
  {
   "cell_type": "code",
   "execution_count": 30,
   "metadata": {
    "jupyter": {
     "source_hidden": true
    }
   },
   "outputs": [
    {
     "data": {
      "text/html": [
       "<iframe src=\"//fred.stlouisfed.org/graph/graph-landing.php?g=l9dN&width=670&height=475\" scrolling=\"no\" frameborder=\"0\" style=\"overflow:hidden; width:670px; height:525px;\" allowTransparency=\"true\"></iframe>"
      ],
      "text/plain": [
       "<IPython.core.display.HTML object>"
      ]
     },
     "metadata": {},
     "output_type": "display_data"
    }
   ],
   "source": [
    "%%html\n",
    "<iframe src=\"//fred.stlouisfed.org/graph/graph-landing.php?g=l9dN&width=670&height=475\" scrolling=\"no\" frameborder=\"0\" style=\"overflow:hidden; width:670px; height:525px;\" allowTransparency=\"true\"></iframe>"
   ]
  },
  {
   "cell_type": "markdown",
   "metadata": {},
   "source": [
    "## Effects of Katrina on Louisiana\n",
    "\n",
    "Between [1.2](https://www.nhc.noaa.gov/data/tcr/AL122005_Katrina.pdf) and [1.5](https://www.nap.edu/read/11840/chapter/5) million people evacuated Louisiana during and after Katrina. Employment in Louisiana fell for two straight months.\n",
    "\n",
    "Although fewer people evacuated Louisiana than Florida during Irma (6.5m), the decline in employment was much larger on a per-evacuee basis. The persistence of the decline suggests that this higher ratio is attributable to the severity of the storm.\n",
    "\n",
    "Overall U.S. unemployment took a dive in September, 2005. The series was much more volatile during that period, though, so I won't try to say how much of it was do to Katrina. \n",
    "\n",
    "See also the [BLS](https://www.bls.gov/katrina/cpscesquestions.htm) "
   ]
  },
  {
   "cell_type": "code",
   "execution_count": 28,
   "metadata": {
    "jupyter": {
     "source_hidden": true
    }
   },
   "outputs": [
    {
     "data": {
      "text/html": [
       "<iframe src=\"//fred.stlouisfed.org/graph/graph-landing.php?g=l9by&width=670&height=475\" scrolling=\"no\" frameborder=\"0\" style=\"overflow:hidden; width:670px; height:525px;\" allowTransparency=\"true\"></iframe>"
      ],
      "text/plain": [
       "<IPython.core.display.HTML object>"
      ]
     },
     "metadata": {},
     "output_type": "display_data"
    }
   ],
   "source": [
    "%%html\n",
    "<iframe src=\"//fred.stlouisfed.org/graph/graph-landing.php?g=l9by&width=670&height=475\" scrolling=\"no\" frameborder=\"0\" style=\"overflow:hidden; width:670px; height:525px;\" allowTransparency=\"true\"></iframe>"
   ]
  },
  {
   "cell_type": "markdown",
   "metadata": {},
   "source": [
    "## Resources\n",
    "\n",
    "- [WaPo: Hurricane Florence intensifies to Category 4, continues to strengthen on path to East Coast](https://www.washingtonpost.com/news/capital-weather-gang/wp/2018/09/09/florence-strengthens-to-hurricane-and-poses-extreme-threat-to-southeast-and-mid-atlantic/?utm_term=.6a0ef18bc40b)\n",
    "    - \"Many people in the Southeast and Mid-Atlantic probably have not experienced a storm of the potential magnitude of Florence.\"\n",
    "    - NC's Dare and Hatteras counties under mandatory evacuation."
   ]
  }
 ],
 "metadata": {
  "kernelspec": {
   "display_name": "Python 3",
   "language": "python",
   "name": "python3"
  },
  "language_info": {
   "codemirror_mode": {
    "name": "ipython",
    "version": 3
   },
   "file_extension": ".py",
   "mimetype": "text/x-python",
   "name": "python",
   "nbconvert_exporter": "python",
   "pygments_lexer": "ipython3",
   "version": "3.6.3"
  }
 },
 "nbformat": 4,
 "nbformat_minor": 2
}
