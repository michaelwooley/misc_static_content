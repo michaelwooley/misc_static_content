{
 "cells": [
  {
   "cell_type": "markdown",
   "metadata": {},
   "source": [
    "## Backing out CPI from Wage Data\n",
    "\n",
    "Michael Wooley, [michael.wooley@us.gt.com](mailto:michael.wooley@us.gt.com)\n",
    "\n",
    "Use non-adjusted average hourly earnings. Compare the real and nominal series to get it."
   ]
  },
  {
   "cell_type": "code",
   "execution_count": 1,
   "metadata": {},
   "outputs": [],
   "source": [
    "%reset -f\n",
    "%reload_ext autoreload\n",
    "%autoreload 2"
   ]
  },
  {
   "cell_type": "code",
   "execution_count": 2,
   "metadata": {},
   "outputs": [],
   "source": [
    "import pandas as pd\n",
    "import numpy as np\n",
    "import matplotlib.pyplot as plt"
   ]
  },
  {
   "cell_type": "markdown",
   "metadata": {},
   "source": [
    "Set up the series that we are going to compare to back out the price index:"
   ]
  },
  {
   "cell_type": "code",
   "execution_count": 3,
   "metadata": {},
   "outputs": [],
   "source": [
    "# Comparison 1: All sectors\n",
    "# Average weekly earnings of production and nonsupervisory employees, 1982-84 dollars, total private, not seasonally adjusted\n",
    "nom = 'CEU0500000031'\n",
    "\n",
    "# Average weekly earnings of production and nonsupervisory employees, total private, not seasonally adjusted\n",
    "rel = 'CEU0500000030'\n",
    "\n",
    "sid = [(rel, nom)]\n",
    "\n",
    "# Comparison 2: Goods-Providing\n",
    "# Average weekly earnings of production and nonsupervisory employees, goods-producing, not seasonally adjusted\n",
    "nom = 'CEU0600000030'\n",
    "# Average weekly earnings of production and nonsupervisory employees, 1982-84 dollars, goods-producing, not seasonally adjusted\n",
    "rel = 'CEU0600000031'\n",
    "\n",
    "sid.append((rel, nom))\n",
    "\n",
    "# Comparison 3: Service-Providing\n",
    "# Average weekly earnings of production and nonsupervisory employees, private service-providing, not seasonally adjusted\n",
    "nom = 'CEU0800000030'\n",
    "\n",
    "# Average weekly earnings of production and nonsupervisory employees, 1982-84 dollars, private service-providing, not seasonally adjusted\n",
    "rel = 'CEU0800000031'\n",
    "\n",
    "sid.append((rel, nom))"
   ]
  },
  {
   "cell_type": "markdown",
   "metadata": {},
   "source": [
    "Now let's get the data. (Here I download directly from web to demonstrate that this is not an issue with any pre-processing.)"
   ]
  },
  {
   "cell_type": "code",
   "execution_count": 4,
   "metadata": {},
   "outputs": [],
   "source": [
    "# Import\n",
    "df_ = pd.read_csv(\n",
    "      'https://download.bls.gov/pub/time.series/ce/ce.data.0.AllCESSeries',\n",
    "      sep='\\t',\n",
    "      encoding='ascii',\n",
    "      header=None,\n",
    "      skiprows=1,\n",
    "      low_memory=False\n",
    "    )"
   ]
  },
  {
   "cell_type": "code",
   "execution_count": 5,
   "metadata": {},
   "outputs": [
    {
     "data": {
      "text/html": [
       "<div>\n",
       "<style scoped>\n",
       "    .dataframe tbody tr th:only-of-type {\n",
       "        vertical-align: middle;\n",
       "    }\n",
       "\n",
       "    .dataframe tbody tr th {\n",
       "        vertical-align: top;\n",
       "    }\n",
       "\n",
       "    .dataframe thead th {\n",
       "        text-align: right;\n",
       "    }\n",
       "</style>\n",
       "<table border=\"1\" class=\"dataframe\">\n",
       "  <thead>\n",
       "    <tr style=\"text-align: right;\">\n",
       "      <th></th>\n",
       "      <th>series_id</th>\n",
       "      <th>year</th>\n",
       "      <th>period</th>\n",
       "      <th>value</th>\n",
       "      <th>footnote</th>\n",
       "      <th>date</th>\n",
       "    </tr>\n",
       "  </thead>\n",
       "  <tbody>\n",
       "    <tr>\n",
       "      <th>3598122</th>\n",
       "      <td>CEU0500000030</td>\n",
       "      <td>1964</td>\n",
       "      <td>M01</td>\n",
       "      <td>95.00</td>\n",
       "      <td></td>\n",
       "      <td>1964-01-01</td>\n",
       "    </tr>\n",
       "    <tr>\n",
       "      <th>3598123</th>\n",
       "      <td>CEU0500000030</td>\n",
       "      <td>1964</td>\n",
       "      <td>M02</td>\n",
       "      <td>95.50</td>\n",
       "      <td></td>\n",
       "      <td>1964-02-01</td>\n",
       "    </tr>\n",
       "    <tr>\n",
       "      <th>3598124</th>\n",
       "      <td>CEU0500000030</td>\n",
       "      <td>1964</td>\n",
       "      <td>M03</td>\n",
       "      <td>95.75</td>\n",
       "      <td></td>\n",
       "      <td>1964-03-01</td>\n",
       "    </tr>\n",
       "    <tr>\n",
       "      <th>3598125</th>\n",
       "      <td>CEU0500000030</td>\n",
       "      <td>1964</td>\n",
       "      <td>M04</td>\n",
       "      <td>96.38</td>\n",
       "      <td></td>\n",
       "      <td>1964-04-01</td>\n",
       "    </tr>\n",
       "    <tr>\n",
       "      <th>3598126</th>\n",
       "      <td>CEU0500000030</td>\n",
       "      <td>1964</td>\n",
       "      <td>M05</td>\n",
       "      <td>97.02</td>\n",
       "      <td></td>\n",
       "      <td>1964-05-01</td>\n",
       "    </tr>\n",
       "  </tbody>\n",
       "</table>\n",
       "</div>"
      ],
      "text/plain": [
       "             series_id  year period  value footnote       date\n",
       "3598122  CEU0500000030  1964    M01  95.00          1964-01-01\n",
       "3598123  CEU0500000030  1964    M02  95.50          1964-02-01\n",
       "3598124  CEU0500000030  1964    M03  95.75          1964-03-01\n",
       "3598125  CEU0500000030  1964    M04  96.38          1964-04-01\n",
       "3598126  CEU0500000030  1964    M05  97.02          1964-05-01"
      ]
     },
     "execution_count": 5,
     "metadata": {},
     "output_type": "execute_result"
    }
   ],
   "source": [
    "# Rename the columns\n",
    "df_.columns = ['series_id', 'year', 'period', 'value', 'footnote']\n",
    "# Get rid of NA rows\n",
    "df_.dropna(axis=1, how='all', inplace=True)\n",
    "# Strip white space\n",
    "df_ = df_.apply(lambda x: x.str.strip() if x.dtype == 'object' else x)\n",
    "# Isolate the variables of interest\n",
    "sid_t = tuple([s for sdi_i in sid for s in sdi_i ])\n",
    "df_ = df_.loc[df_['series_id'].isin(sid_t)]\n",
    "# Get rid of annual averages\n",
    "df_.drop(df_.index[df_['period'].isin(['M13', 'A01'])], inplace=True)\n",
    "# Make dates\n",
    "df_['date'] = df_.apply(lambda d: pd.Timestamp(d['year'], int(d['period'][1:]),1),axis=1)\n",
    "\n",
    "df_.head()"
   ]
  },
  {
   "cell_type": "markdown",
   "metadata": {},
   "source": [
    "Now we create two versions of the derived index:\n",
    "\n",
    "1. _Version 1_ = real / nominal * 100\n",
    "1. _Version 2_ = nominal / real * 100\n",
    "\n",
    "So we just flip these."
   ]
  },
  {
   "cell_type": "code",
   "execution_count": 6,
   "metadata": {},
   "outputs": [
    {
     "name": "stdout",
     "output_type": "stream",
     "text": [
      "Import data and check to ensure 1982-84~=100 for both versions:\n",
      "\t1982-84 Mean Index for All: [100.00034869187249, 100.0850012777281]\n",
      "\t1982-84 Mean Index for Goods: [100.08541305274392, 99.99994538356623]\n",
      "\t1982-84 Mean Index for Services: [100.08552539793358, 99.99985699479852]\n"
     ]
    }
   ],
   "source": [
    "cpi_v1,cpi_v2 = [], []\n",
    "print('Import data and check to ensure 1982-84~=100 for both versions:')\n",
    "for ii,(sid_i,nm) in enumerate(zip(sid, ['All', 'Goods', 'Services'])):\n",
    "    df = df_.loc[df_['series_id'].isin(sid_i)] #pd.read_sql('SELECT * FROM ces_data WHERE series_id IN {}'.format(sid_i), conn, parse_dates=['date'])\n",
    "    df = df.pivot(columns='series_id', index='date', values='value').rename(columns={sid_i[0]: 'real', sid_i[1]: 'nominal'})\n",
    "\n",
    "    # Construct the CPI (of either type)\n",
    "    df['cpi_v1'] = df['real'] / df['nominal'] * 100\n",
    "    df['cpi_v2'] = df['nominal'] / df['real'] * 100\n",
    "\n",
    "    # Check to make sure that the mean of 1982-1984 is 100 (as advertised)\n",
    "    pp = [df.loc[(df.index >= pd.Timestamp(1982,1,1)) & (df.index < pd.Timestamp(1985,1,1)), 'cpi_v1'].mean(), \n",
    "     df.loc[(df.index >= pd.Timestamp(1982,1,1)) & (df.index < pd.Timestamp(1985,1,1)), 'cpi_v2'].mean()]\n",
    "    print('\\t1982-84 Mean Index for {}: {}'.format(nm, pp))\n",
    "\n",
    "    # Merge to check\n",
    "    dfi = df[['cpi_v1']].reset_index()\n",
    "    dfi['name'] = nm\n",
    "    cpi_v1.append(dfi)\n",
    "    dfi = df[['cpi_v2']].reset_index()\n",
    "    dfi['name'] = nm\n",
    "    cpi_v2.append(dfi)\n",
    "    \n",
    "cpi_v1 = pd.concat(cpi_v1).pivot(index='date', values='cpi_v1', columns='name').dropna()\n",
    "cpi_v2 = pd.concat(cpi_v2).pivot(index='date', values='cpi_v2', columns='name').dropna()"
   ]
  },
  {
   "cell_type": "markdown",
   "metadata": {},
   "source": [
    "From the above we see that both versions of the price index have means that are quite close to the advertised 100."
   ]
  },
  {
   "cell_type": "markdown",
   "metadata": {},
   "source": [
    "Now plot each of the versions:"
   ]
  },
  {
   "cell_type": "code",
   "execution_count": 7,
   "metadata": {},
   "outputs": [
    {
     "data": {
      "text/plain": [
       "<matplotlib.axes._subplots.AxesSubplot at 0x140f6a3af28>"
      ]
     },
     "execution_count": 7,
     "metadata": {},
     "output_type": "execute_result"
    },
    {
     "data": {
      "image/png": "[encoded data removed]",
      "text/plain": [
       "<Figure size 720x360 with 2 Axes>"
      ]
     },
     "metadata": {
      "needs_background": "light"
     },
     "output_type": "display_data"
    }
   ],
   "source": [
    "f, axes = plt.subplots(1,2, figsize=(10,5))\n",
    "\n",
    "cpi_v1.plot(title='Version 1', ax=axes[0])\n",
    "cpi_v2.plot(title='Version 2', ax=axes[1])"
   ]
  },
  {
   "cell_type": "markdown",
   "metadata": {},
   "source": [
    "From this we notice:\n",
    "\n",
    "1. The goods and services indices are identical for both versions (Can be confirmed by looking at head of frame.)\n",
    "1. The \"Version 1\" and \"Version 2\" indices appear to be flipped.\n",
    "\n",
    "This can be confirmed by examining the data:"
   ]
  },
  {
   "cell_type": "code",
   "execution_count": 8,
   "metadata": {},
   "outputs": [
    {
     "name": "stdout",
     "output_type": "stream",
     "text": [
      "Version 1\n"
     ]
    },
    {
     "data": {
      "text/html": [
       "<div>\n",
       "<style scoped>\n",
       "    .dataframe tbody tr th:only-of-type {\n",
       "        vertical-align: middle;\n",
       "    }\n",
       "\n",
       "    .dataframe tbody tr th {\n",
       "        vertical-align: top;\n",
       "    }\n",
       "\n",
       "    .dataframe thead th {\n",
       "        text-align: right;\n",
       "    }\n",
       "</style>\n",
       "<table border=\"1\" class=\"dataframe\">\n",
       "  <thead>\n",
       "    <tr style=\"text-align: right;\">\n",
       "      <th>name</th>\n",
       "      <th>All</th>\n",
       "      <th>Goods</th>\n",
       "      <th>Services</th>\n",
       "    </tr>\n",
       "    <tr>\n",
       "      <th>date</th>\n",
       "      <th></th>\n",
       "      <th></th>\n",
       "      <th></th>\n",
       "    </tr>\n",
       "  </thead>\n",
       "  <tbody>\n",
       "    <tr>\n",
       "      <th>2018-04-01</th>\n",
       "      <td>244.605092</td>\n",
       "      <td>40.882149</td>\n",
       "      <td>40.881600</td>\n",
       "    </tr>\n",
       "    <tr>\n",
       "      <th>2018-05-01</th>\n",
       "      <td>245.772208</td>\n",
       "      <td>40.688933</td>\n",
       "      <td>40.689079</td>\n",
       "    </tr>\n",
       "    <tr>\n",
       "      <th>2018-06-01</th>\n",
       "      <td>246.195863</td>\n",
       "      <td>40.617848</td>\n",
       "      <td>40.618711</td>\n",
       "    </tr>\n",
       "    <tr>\n",
       "      <th>2018-07-01</th>\n",
       "      <td>246.156299</td>\n",
       "      <td>40.624657</td>\n",
       "      <td>40.625043</td>\n",
       "    </tr>\n",
       "    <tr>\n",
       "      <th>2018-08-01</th>\n",
       "      <td>246.334556</td>\n",
       "      <td>40.595415</td>\n",
       "      <td>40.594374</td>\n",
       "    </tr>\n",
       "  </tbody>\n",
       "</table>\n",
       "</div>"
      ],
      "text/plain": [
       "name               All      Goods   Services\n",
       "date                                        \n",
       "2018-04-01  244.605092  40.882149  40.881600\n",
       "2018-05-01  245.772208  40.688933  40.689079\n",
       "2018-06-01  246.195863  40.617848  40.618711\n",
       "2018-07-01  246.156299  40.624657  40.625043\n",
       "2018-08-01  246.334556  40.595415  40.594374"
      ]
     },
     "execution_count": 8,
     "metadata": {},
     "output_type": "execute_result"
    }
   ],
   "source": [
    "print('Version 1')\n",
    "cpi_v1.tail()"
   ]
  },
  {
   "cell_type": "code",
   "execution_count": 9,
   "metadata": {},
   "outputs": [
    {
     "name": "stdout",
     "output_type": "stream",
     "text": [
      "Version 2\n"
     ]
    },
    {
     "data": {
      "text/html": [
       "<div>\n",
       "<style scoped>\n",
       "    .dataframe tbody tr th:only-of-type {\n",
       "        vertical-align: middle;\n",
       "    }\n",
       "\n",
       "    .dataframe tbody tr th {\n",
       "        vertical-align: top;\n",
       "    }\n",
       "\n",
       "    .dataframe thead th {\n",
       "        text-align: right;\n",
       "    }\n",
       "</style>\n",
       "<table border=\"1\" class=\"dataframe\">\n",
       "  <thead>\n",
       "    <tr style=\"text-align: right;\">\n",
       "      <th>name</th>\n",
       "      <th>All</th>\n",
       "      <th>Goods</th>\n",
       "      <th>Services</th>\n",
       "    </tr>\n",
       "    <tr>\n",
       "      <th>date</th>\n",
       "      <th></th>\n",
       "      <th></th>\n",
       "      <th></th>\n",
       "    </tr>\n",
       "  </thead>\n",
       "  <tbody>\n",
       "    <tr>\n",
       "      <th>2018-04-01</th>\n",
       "      <td>40.882223</td>\n",
       "      <td>244.605538</td>\n",
       "      <td>244.608823</td>\n",
       "    </tr>\n",
       "    <tr>\n",
       "      <th>2018-05-01</th>\n",
       "      <td>40.688083</td>\n",
       "      <td>245.767071</td>\n",
       "      <td>245.766191</td>\n",
       "    </tr>\n",
       "    <tr>\n",
       "      <th>2018-06-01</th>\n",
       "      <td>40.618067</td>\n",
       "      <td>246.197190</td>\n",
       "      <td>246.191957</td>\n",
       "    </tr>\n",
       "    <tr>\n",
       "      <th>2018-07-01</th>\n",
       "      <td>40.624595</td>\n",
       "      <td>246.155924</td>\n",
       "      <td>246.153589</td>\n",
       "    </tr>\n",
       "    <tr>\n",
       "      <th>2018-08-01</th>\n",
       "      <td>40.595198</td>\n",
       "      <td>246.333236</td>\n",
       "      <td>246.339553</td>\n",
       "    </tr>\n",
       "  </tbody>\n",
       "</table>\n",
       "</div>"
      ],
      "text/plain": [
       "name              All       Goods    Services\n",
       "date                                         \n",
       "2018-04-01  40.882223  244.605538  244.608823\n",
       "2018-05-01  40.688083  245.767071  245.766191\n",
       "2018-06-01  40.618067  246.197190  246.191957\n",
       "2018-07-01  40.624595  246.155924  246.153589\n",
       "2018-08-01  40.595198  246.333236  246.339553"
      ]
     },
     "execution_count": 9,
     "metadata": {},
     "output_type": "execute_result"
    }
   ],
   "source": [
    "print('Version 2')\n",
    "cpi_v2.tail()"
   ]
  },
  {
   "cell_type": "markdown",
   "metadata": {},
   "source": [
    "So it appears:\n",
    "\n",
    "1. The goods and services indices are, in fact, equal for both versions.\n",
    "1. The \"All goods\" index for version 1 is identical to the goods/services indices for version 2 (and vice versa).\n",
    "\n",
    "_Note_ that the numbers won't be exactly equal to arbitrary precision due to the fact that the original input data was rounded to two decimal places."
   ]
  },
  {
   "cell_type": "markdown",
   "metadata": {},
   "source": [
    "Of course, we've only examined the tail of the data. As a final check, I look at the absolute maximum difference between the two sets of series:"
   ]
  },
  {
   "cell_type": "code",
   "execution_count": 10,
   "metadata": {},
   "outputs": [
    {
     "name": "stdout",
     "output_type": "stream",
     "text": [
      "Maximum absolute difference between \"All\" (v1) and mean of \"Goods\"/\"Services\" (v2): 0.006366744655338152\n",
      "Maximum absolute difference between \"All\" (v2) and mean of \"Goods\"/\"Services\" (v1): 0.0077194828678557315\n"
     ]
    }
   ],
   "source": [
    "print('Maximum absolute difference between \"All\" (v1) and mean of \"Goods\"/\"Services\" (v2): {}'.format(np.max(np.abs(cpi_v1['All'] - cpi_v2[['Goods', 'Services']].mean(axis=1)))))\n",
    "print('Maximum absolute difference between \"All\" (v2) and mean of \"Goods\"/\"Services\" (v1): {}'.format(np.max(np.abs(cpi_v2['All'] - cpi_v1[['Goods', 'Services']].mean(axis=1)))))"
   ]
  },
  {
   "cell_type": "markdown",
   "metadata": {},
   "source": [
    "This confirms what was found in the plot above: The version 1 for \"all\" is essentially identical to the version 2 for goods/services."
   ]
  },
  {
   "cell_type": "markdown",
   "metadata": {},
   "source": [
    "## Conclusion\n",
    "\n",
    "I am more than open to the possibility that something is messed up here. However, there appears to be a pretty big and systematic inconsistency.\n",
    "\n",
    "If this is a genuine problem from the data then it will be necessary to re-examine all other CES wage series for similar issues."
   ]
  },
  {
   "cell_type": "code",
   "execution_count": null,
   "metadata": {},
   "outputs": [],
   "source": []
  }
 ],
 "metadata": {
  "kernelspec": {
   "display_name": "Python 3",
   "language": "python",
   "name": "python3"
  },
  "language_info": {
   "codemirror_mode": {
    "name": "ipython",
    "version": 3
   },
   "file_extension": ".py",
   "mimetype": "text/x-python",
   "name": "python",
   "nbconvert_exporter": "python",
   "pygments_lexer": "ipython3",
   "version": "3.7.0"
  }
 },
 "nbformat": 4,
 "nbformat_minor": 2
}
